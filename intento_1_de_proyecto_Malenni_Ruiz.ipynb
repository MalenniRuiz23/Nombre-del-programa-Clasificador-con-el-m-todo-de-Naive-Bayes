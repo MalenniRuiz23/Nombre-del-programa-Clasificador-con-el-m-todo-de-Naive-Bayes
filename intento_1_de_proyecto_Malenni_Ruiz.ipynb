{
  "nbformat": 4,
  "nbformat_minor": 0,
  "metadata": {
    "colab": {
      "provenance": [],
      "authorship_tag": "ABX9TyN2fBBXOui+RuCcTLByOnDq",
      "include_colab_link": true
    },
    "kernelspec": {
      "name": "python3",
      "display_name": "Python 3"
    },
    "language_info": {
      "name": "python"
    }
  },
  "cells": [
    {
      "cell_type": "markdown",
      "metadata": {
        "id": "view-in-github",
        "colab_type": "text"
      },
      "source": [
        "<a href=\"https://colab.research.google.com/github/MalenniRuiz23/Nombre-del-programa-Clasificador-con-el-m-todo-de-Naive-Bayes/blob/main/intento_1_de_proyecto_Malenni_Ruiz.ipynb\" target=\"_parent\"><img src=\"https://colab.research.google.com/assets/colab-badge.svg\" alt=\"Open In Colab\"/></a>"
      ]
    },
    {
      "cell_type": "code",
      "execution_count": null,
      "metadata": {
        "id": "SH-c9GHdRoDf"
      },
      "outputs": [],
      "source": [
        "#se colocan los impor y los accesos a las tablas juntos adicional se dejaron todos los impor o set que se usaron para pruebas por que no se cual trabaja...\n",
        "import xgboost\n",
        "import pandas as pd\n",
        "import seaborn as sns\n",
        "import matplotlib.pyplot as plt\n",
        "import numpy as np\n",
        "import xgboost as xgb\n",
        "import statsmodels.api as sm\n",
        "from sklearn.naive_bayes import GaussianNB\n",
        "from sklearn.preprocessing import StandardScaler\n",
        "from sklearn.model_selection import train_test_split, cross_val_score\n",
        "from sklearn.feature_selection import SelectKBest, f_classif,RFECV, f_regression\n",
        "from sklearn.metrics import accuracy_score, mean_squared_error, r2_score\n",
        "from sklearn.linear_model import LogisticRegression\n",
        "from xgboost import XGBRegressor\n",
        "from sklearn.linear_model import LinearRegression\n",
        "from sklearn.ensemble import RandomForestClassifier\n",
        "from sklearn.datasets import make_classification"
      ]
    },
    {
      "cell_type": "code",
      "source": [
        "#para entrar al archivo que se cargo a colaboratory\n",
        "df = pd.read_csv(\"/content/comprar_alquilar.csv\")\n",
        "#df.columns\n",
        "df.head(202)"
      ],
      "metadata": {
        "id": "QaQdtm_ISyOi"
      },
      "execution_count": null,
      "outputs": []
    },
    {
      "cell_type": "code",
      "source": [
        "# Describir cada variable creando un histograma de cada una excuyendo comprar\n",
        "variables_independientes = df.drop(columns=['comprar'])\n",
        "variables_independientes.hist(figsize=(12, 8))\n",
        "plt.show()"
      ],
      "metadata": {
        "id": "11s2QEkXrYZb"
      },
      "execution_count": null,
      "outputs": []
    },
    {
      "cell_type": "code",
      "source": [
        "#histograma con todo junto\n",
        "plt.hist(df['ingresos'], color='blue')\n",
        "plt.hist(df['gastos_comunes'], color='red')\n",
        "plt.hist(df['pago_coche'], color='green')\n",
        "plt.hist(df['gastos_otros'], color='yellow')\n",
        "plt.hist(df['gastos_otros'], color='yellow')\n",
        "plt.hist(df['vivienda'], color='orange')\n",
        "plt.hist(df['ahorros'], color='gray')\n",
        "plt.hist(df['estado_civil'], color='purple')\n",
        "plt.hist(df['trabajo'], color='pink')\n",
        "plt.title('Histograma de general')\n",
        "plt.xlabel('valores general')\n",
        "plt.ylabel('Numero de personas')\n"
      ],
      "metadata": {
        "id": "C6_8GrDpJj7Y"
      },
      "execution_count": null,
      "outputs": []
    },
    {
      "cell_type": "code",
      "source": [
        "#correlacion con las variables\n",
        "plt.figure()\n",
        "sns.heatmap(correlation_matrix, annot=True, cmap='coolwarm', fmt=\".2f\")\n",
        "plt.title(\"Correlación entre todas las variables independientes\")\n",
        "plt.show()"
      ],
      "metadata": {
        "id": "eC6kuvFw_iJK"
      },
      "execution_count": null,
      "outputs": []
    },
    {
      "cell_type": "code",
      "source": [
        "#para saber cuales son los top que cuantan con correlacion\n",
        "top_5_correlated_features = correlation_with_target.abs().nlargest(5).index.tolist()\n",
        "print(\"Las 5 variables más correlacionadas con 'comprar':\", top_5_correlated_features)\n"
      ],
      "metadata": {
        "id": "xM9PYxke4Rpx"
      },
      "execution_count": null,
      "outputs": []
    },
    {
      "cell_type": "code",
      "source": [
        "#para traer de nuevo el comprar por que arriba se elimino\n",
        "X = df[top_5_correlated_features]  # Usar solo las 5 mejores variables\n",
        "y = df[\"comprar\"]\n",
        "X_train, X_test, y_train, y_test = train_test_split(X, y, test_size=0.2, random_state=42)"
      ],
      "metadata": {
        "id": "lPBwPj1o4b7O"
      },
      "execution_count": null,
      "outputs": []
    },
    {
      "cell_type": "code",
      "source": [
        "# para poder realizar regresion logistica\n",
        "model_all_variables = LogisticRegression()\n",
        "model_all_variables.fit(variables_independientes, y)\n",
        "model_top_5_variables = LogisticRegression()\n",
        "model_top_5_variables.fit(X_train, y_train)"
      ],
      "metadata": {
        "id": "On8G-WnZeSGR"
      },
      "execution_count": null,
      "outputs": []
    },
    {
      "cell_type": "code",
      "source": [
        "# prueba....\n",
        "caso1 = [[2000, 944, 0, 245, 5000,200000, 2, 0, 1]]\n",
        "caso2 = [[6000, 944, 0, 245, 34000, 320000, 2, 0, 1]]\n",
        "\n",
        "prediccion_caso1 = model_all_variables.predict(caso1)\n",
        "prediccion_caso2 = model_all_variables.predict(caso2)\n",
        "\n",
        "print(\"Predicción para el Caso 1 (todas las variables):\", prediccion_caso1)\n",
        "print(\"Predicción para el Caso 2 (todas las variables):\", prediccion_caso2)\n"
      ],
      "metadata": {
        "id": "AKiqMAdP9sT0"
      },
      "execution_count": null,
      "outputs": []
    }
  ]
}